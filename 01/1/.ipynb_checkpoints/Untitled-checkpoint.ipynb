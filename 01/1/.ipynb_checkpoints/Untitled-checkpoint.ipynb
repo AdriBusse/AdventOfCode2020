{
 "cells": [
  {
   "cell_type": "code",
   "execution_count": 19,
   "metadata": {},
   "outputs": [
    {
     "name": "stdout",
     "output_type": "stream",
     "text": [
      "3104\n"
     ]
    }
   ],
   "source": [
    "# Using readlines() \n",
    "file1 = open('input.txt', 'r') \n",
    "Lines = file1.readlines()\n",
    "Lines = [x[:-1] for x in Lines]\n",
    "\n",
    "print(int(Lines[0])+int(Lines[1]))"
   ]
  },
  {
   "cell_type": "code",
   "execution_count": 37,
   "metadata": {},
   "outputs": [
    {
     "name": "stdout",
     "output_type": "stream",
     "text": [
      "145\n",
      "145\n"
     ]
    }
   ],
   "source": [
    "test = [400,800,222,600,754,22148,3698,1,145]\n",
    "\n",
    "#x=index\n",
    "#i= value\n",
    "val1=0\n",
    "val2=0\n",
    "for x in range(0,len(test)):\n",
    "    val1= test[x]\n",
    "    for y in range(x, len(test)):\n",
    "        val2=test[y]\n",
    "        if(val1+val2==1000):\n",
    "            break\n",
    "        \n",
    "print(val1)\n",
    "print(val2)"
   ]
  }
 ],
 "metadata": {
  "kernelspec": {
   "display_name": "Python 3",
   "language": "python",
   "name": "python3"
  },
  "language_info": {
   "codemirror_mode": {
    "name": "ipython",
    "version": 3
   },
   "file_extension": ".py",
   "mimetype": "text/x-python",
   "name": "python",
   "nbconvert_exporter": "python",
   "pygments_lexer": "ipython3",
   "version": "3.8.3"
  }
 },
 "nbformat": 4,
 "nbformat_minor": 4
}
